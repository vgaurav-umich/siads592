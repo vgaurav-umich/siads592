{
  "nbformat": 4,
  "nbformat_minor": 0,
  "metadata": {
    "colab": {
      "name": "get_geographic_data.ipynb",
      "provenance": [],
      "mount_file_id": "1uJqKncwKK96Oo4l_XV6zzHZ8WrN9FQtU",
      "authorship_tag": "ABX9TyPcFzX0xFr8nG7FPxhAwgyn",
      "include_colab_link": true
    },
    "kernelspec": {
      "name": "python3",
      "display_name": "Python 3"
    }
  },
  "cells": [
    {
      "cell_type": "markdown",
      "metadata": {
        "id": "view-in-github",
        "colab_type": "text"
      },
      "source": [
        "<a href=\"https://colab.research.google.com/github/vgaurav-umich/siads592/blob/master/get_geographic_data.ipynb\" target=\"_parent\"><img src=\"https://colab.research.google.com/assets/colab-badge.svg\" alt=\"Open In Colab\"/></a>"
      ]
    },
    {
      "cell_type": "markdown",
      "metadata": {
        "id": "KikZe0X1ChIY",
        "colab_type": "text"
      },
      "source": [
        "# Get Geographic Data \n",
        "\n",
        "\n"
      ]
    },
    {
      "cell_type": "markdown",
      "metadata": {
        "id": "socWqZPCtz_t",
        "colab_type": "text"
      },
      "source": [
        "## Purpose\n",
        "\n",
        "The purpose of this Notebook is to collect and curate various Geo features, like - Federal Information Processing Standard (FIPS) Codes for various US Counties or Equivelent, their corresponding Core Base Statistical Area (CBSA), type of Statistical Area i.e. Metro or Micro, Population etc. \n",
        "\n",
        "We used various Wikipedia articles to download required information.  "
      ]
    },
    {
      "cell_type": "code",
      "metadata": {
        "id": "cZW_GNXyAuom",
        "colab_type": "code",
        "colab": {}
      },
      "source": [
        "# import required libraries\n",
        "import pandas as pd\n",
        "import numpy as np"
      ],
      "execution_count": 0,
      "outputs": []
    },
    {
      "cell_type": "markdown",
      "metadata": {
        "id": "C1o5vog8sL7X",
        "colab_type": "text"
      },
      "source": [
        "## Load State Data List"
      ]
    },
    {
      "cell_type": "code",
      "metadata": {
        "id": "LSiYo2m2BZst",
        "colab_type": "code",
        "colab": {}
      },
      "source": [
        "# We will be using Wikipedia article to get list of US States or Equivelent\n",
        "state_url =  \"https://en.wikipedia.org/wiki/Federal_Information_Processing_Standard_state_code\" #@param {type:\"raw\"}\n",
        "# It is a good idea to click on this Url and see if this still works"
      ],
      "execution_count": 0,
      "outputs": []
    },
    {
      "cell_type": "code",
      "metadata": {
        "id": "2-TyTlPkC3ox",
        "colab_type": "code",
        "colab": {}
      },
      "source": [
        "# STEP 1: Load the data table\n",
        "# First Table in loaded data contains FIPS Codes for States\n",
        "# This will download list of US States or Equivelent with associated FIPS codes\n",
        "state_df = pd.read_html(state_url)[0].dropna()"
      ],
      "execution_count": 0,
      "outputs": []
    },
    {
      "cell_type": "code",
      "metadata": {
        "id": "r2IzA1FaC_Tx",
        "colab_type": "code",
        "colab": {}
      },
      "source": [
        "# TEST and DEBUG STEP 1: Check loaded Dataframe\n",
        "# state_df.info()\n",
        "# We see that we have 69 records that include main 50 states and union terrirotirs as well as minor islands\n",
        "# All entries are not null so we do not need to worry about anything \n",
        "# state_df.head()"
      ],
      "execution_count": 0,
      "outputs": []
    },
    {
      "cell_type": "code",
      "metadata": {
        "id": "m1E5Oe0xDjSx",
        "colab_type": "code",
        "colab": {}
      },
      "source": [
        "# STEP 2: Clean-up\n",
        "\n",
        "# Step 2.1 Drop last column which contains status info of a state or territory \n",
        "state_df = state_df.iloc[:,0:-1]\n",
        "\n",
        "#Step 2.2 Rename columns to user friendly names\n",
        "state_df.columns = ['state', 'state_code', 'fips']\n",
        "\n",
        "#Step 2.3 Change Virgin Island to friendly Name\n",
        "state_df['state'] = state_df['state'].str.replace('Virgin Islands of the U.S.', 'Virgin Islands')\n",
        "# print(\"\\n============================== state_df: State dataset ===========================================\")\n",
        "# state_df.info()"
      ],
      "execution_count": 0,
      "outputs": []
    },
    {
      "cell_type": "code",
      "metadata": {
        "id": "ShB_N07fzGIF",
        "colab_type": "code",
        "colab": {}
      },
      "source": [
        "# TEST Step 2: Check Transformed Dataframe\n",
        "# state_df.info()\n",
        "# Everything looks good\n",
        "# Debug to check if it has any null values or a particular entry\n",
        "# state_df.query('state_code.isnull()', engine = 'python')\n",
        "# state_df.query('state_code.str.contains(\"Virgin\")', engine = 'python')\n",
        "# state_df.head()"
      ],
      "execution_count": 0,
      "outputs": []
    },
    {
      "cell_type": "markdown",
      "metadata": {
        "id": "GKA3NEbgsYFi",
        "colab_type": "text"
      },
      "source": [
        "## Load County Data"
      ]
    },
    {
      "cell_type": "code",
      "metadata": {
        "id": "m4L6278LsbJ8",
        "colab_type": "code",
        "colab": {}
      },
      "source": [
        "# We will use following Wiki article to get list of 3242 US Counties or Equivelents\n",
        "county_url = \"https://en.wikipedia.org/wiki/List_of_United_States_FIPS_codes_by_county\" #@param {type:\"raw\"}\n",
        "# It is a good idea to clcik on this Url and see if this still works"
      ],
      "execution_count": 0,
      "outputs": []
    },
    {
      "cell_type": "code",
      "metadata": {
        "id": "YFX5vVMMA-eQ",
        "colab_type": "code",
        "colab": {}
      },
      "source": [
        "# STEP 1: Load the data table\n",
        "# Second Table contains FIPS for Counties\n",
        "# This will download list of US Counties or Equivelent with associated FIPS codes\n",
        "county_df = pd.read_html(county_url)[1]"
      ],
      "execution_count": 0,
      "outputs": []
    },
    {
      "cell_type": "code",
      "metadata": {
        "id": "gp4zFF_NDkw9",
        "colab_type": "code",
        "colab": {}
      },
      "source": [
        "# TEST and DEBUG Step 1: Check loaded Dataframe\n",
        "# county_df.info()\n",
        "# We see that we have 3242 records that include all counties as well as equivelents \n",
        "# All entries are not null so we do not need to worry about anything \n",
        "# NOTE that it contains old county entry of Valdez-Cordova Census Area \n",
        "#  in Alaska which is now split into two census areas. We are going to keep it. "
      ],
      "execution_count": 0,
      "outputs": []
    },
    {
      "cell_type": "code",
      "metadata": {
        "id": "Qg_4isI_BK0k",
        "colab_type": "code",
        "colab": {}
      },
      "source": [
        "# STEP 2: Clean-up\n",
        "\n",
        "# Step 2.1 Rename columns\n",
        "county_df.columns = ['fips','county', 'state']\n",
        "\n",
        "# Step 2.2 Let's fix County suffix from each County Name\n",
        "county_df['county'] = county_df['county'].str.replace(' County', '')\n",
        "county_df['county'] = county_df['county'].str.replace(' Parish', '')\n",
        "\n",
        "# Wiki adds some footnotes, so let's remove them\n",
        "county_df['county'] = county_df['county'].str.replace('(\\[[0-9A-Za-z]\\])*', '', regex = True)\n",
        "county_df['county'] = county_df['county'].str.replace(', City and of', '')\n",
        "county_df['county'] = county_df['county'].str.replace(', City and Borough of', '')\n",
        "county_df['county'] = county_df['county'].str.replace(', Municipality of', '')\n",
        "county_df['county'] = county_df['county'].str.replace(', Town and of', '')\n",
        "\n",
        "# Decided against removing City of suffix for independent cities of Vriginia, \n",
        "# becuase removing this suffix was cuasing false duplicate scnearios with County and State Name which was creating problem with later joinig. \n",
        "# county_df['county'] = county_df['county'].str.replace(', City of', '')\n",
        "county_df['county'] = county_df['county'].str.replace(', Consolidated Municipality of', '')\n",
        "county_df['county'] = county_df['county'].str.replace('–', '-')\n",
        "county_df['county'] = county_df['county'].str.replace(' – ', '-')\n",
        "county_df['county'] = county_df['county'].str.replace(' - ', '-')\n",
        "county_df['state'] = county_df['state'].str.replace('Virgin Islands \\(U.S.\\)', 'Virgin Islands')\n",
        "county_df['state'] = county_df['state'].str.replace('Hawaiʻi', 'Hawaii')"
      ],
      "execution_count": 0,
      "outputs": []
    },
    {
      "cell_type": "code",
      "metadata": {
        "id": "M8is8Nmy1zjM",
        "colab_type": "code",
        "colab": {}
      },
      "source": [
        "# TEST and DEBUG STEP 2: Check Transformed Dataframe\\\n",
        "# print(\"\\n============================== county_df: County dataset ===========================================\")\n",
        "# county_df.info()\n",
        "# Everything loks good\n",
        "# Debug to check if any entry exists \n",
        "# county_df.query('county.str.contains(\"New York\")', engine = 'python')"
      ],
      "execution_count": 0,
      "outputs": []
    },
    {
      "cell_type": "code",
      "metadata": {
        "id": "JjgIItbsvxKu",
        "colab_type": "code",
        "colab": {}
      },
      "source": [
        ""
      ],
      "execution_count": 0,
      "outputs": []
    },
    {
      "cell_type": "markdown",
      "metadata": {
        "id": "c8ng3qlqY-nH",
        "colab_type": "text"
      },
      "source": [
        "## Load County CBSA Data\n",
        "\n",
        "Here we will load County data for US Counties. This will have MSA, Population, FIPS code, and State codes"
      ]
    },
    {
      "cell_type": "code",
      "metadata": {
        "id": "Ny3MwmsusIlC",
        "colab_type": "code",
        "colab": {}
      },
      "source": [
        "# County CBSA mapping page\n",
        "county_cbsa_url = 'https://en.wikipedia.org/wiki/List_of_United_States_counties_and_county_equivalents' #@param {type:\"raw\"}"
      ],
      "execution_count": 0,
      "outputs": []
    },
    {
      "cell_type": "code",
      "metadata": {
        "id": "MbSp-qOyY-Ck",
        "colab_type": "code",
        "colab": {}
      },
      "source": [
        "# Step 1: Load Data\n",
        "#  Forth Table contains US Counties or Equivelent and their associated Metropolitian Statstical Area mapping\n",
        "county_cbsa_df = pd.read_html(county_cbsa_url)[3]"
      ],
      "execution_count": 0,
      "outputs": []
    },
    {
      "cell_type": "code",
      "metadata": {
        "id": "Xii1-0Ua-AqU",
        "colab_type": "code",
        "colab": {}
      },
      "source": [
        "# Test Step 1: \n",
        "# county_cbsa_df.info()\n",
        "# We see that it has more entries than 3242 we got from County Data pull.\n",
        "# One reason is Alaska one, not sure what are other reasons\n",
        "# Note that there are 1874 CBSA represented here\n",
        "# Debug \n",
        "# county_cbsa_df.head()\n",
        "# Here we see that what need to be transformed"
      ],
      "execution_count": 0,
      "outputs": []
    },
    {
      "cell_type": "code",
      "metadata": {
        "id": "kCzvBq6hQdsE",
        "colab_type": "code",
        "colab": {}
      },
      "source": [
        "# Step 2: Clean-up\n",
        "# Let's change column names and datatypes. Note that population is 2019 estimate. \n",
        "# Rename of column name might loose this info\n",
        "county_cbsa_df.columns = ['county','state', 'population', 'cbsa']\n",
        "\n",
        "# Let's extract cbsa type - Mirco or Metro statstical area designation\n",
        "county_cbsa_df['cbsa_type'] = county_cbsa_df['cbsa'].str.extract('(Metro|Micro|metro|micro)')\n",
        "county_cbsa_df['cbsa_type'] = county_cbsa_df['cbsa_type'].str.lower()\n",
        "# county_cbsa_df['cbsa_type'] = county_cbsa_df['cbsa'].str.extract('.+, [A-Z|-]* (.{5})')\n",
        "# Test code to test if this worked\n",
        "# county_cbsa_df[['cbsa', 'cbsa_type']].query(\"cbsa_type.isna() & cbsa.notnull()\", engine = 'python')\n",
        "\n",
        "# Get rid of Metropolitan Statistical Area suffix\n",
        "county_cbsa_df['cbsa'] = county_cbsa_df['cbsa'].str.replace('(, [A-Z]{2}.*)', '', regex = True)\n",
        "# Clean-up County Names to match County names we got earlier\n",
        "county_cbsa_df['county'] = county_cbsa_df['county'].str.replace(' County', '')\n",
        "county_cbsa_df['county'] = county_cbsa_df['county'].str.replace(' Parish', '')\n",
        "# Remove Footnote\n",
        "county_cbsa_df['county'] = county_cbsa_df['county'].str.replace('(\\[[0-9A-Za-z]+\\])*', '', regex = True)\n",
        "county_cbsa_df['county'] = county_cbsa_df['county'].str.replace(', City and of', '')\n",
        "county_cbsa_df['county'] = county_cbsa_df['county'].str.replace(', Municipality of', '')\n",
        "county_cbsa_df['county'] = county_cbsa_df['county'].str.replace(', Town and of', '')\n",
        "# We decided against removing City of suffix for independent cities of Vriginia, \n",
        "# becuase removing this suffix was cuasing false duplicate scnearios with County and State Name which was creating problem with later joinig. \n",
        "# county_cbsa_df['county'] = county_cbsa_df['county'].str.replace(', City of', '')\n",
        "county_cbsa_df['county'] = county_cbsa_df['county'].str.replace(', Consolidated Municipality of', '')\n",
        "county_cbsa_df['county'] = county_cbsa_df['county'].str.replace('–', '-')\n",
        "county_cbsa_df['county'] = county_cbsa_df['county'].str.replace(' – ', '-')\n",
        "county_cbsa_df['county'] = county_cbsa_df['county'].str.replace(' - ', '-')\n",
        "county_cbsa_df['county'] = county_cbsa_df['county'].str.replace(', City and Borough of', '')\n",
        "county_cbsa_df['state'] = county_cbsa_df['state'].str.replace('Hawaiʻi', 'Hawaii')\n",
        "county_cbsa_df['state'] = county_cbsa_df['state'].str.replace('Virgin Islands \\(U.S.\\)', 'Virgin Islands')\n",
        "county_cbsa_df['county'] = county_cbsa_df['county'].str.replace('(\\[[a-z]{2}\\])*', '', regex = True)\n",
        "# Remove Zero population areas. Yes, there are areas with zero population\n",
        "county_cbsa_df = county_cbsa_df[county_cbsa_df['population'] != 0]\n",
        "# Finally, recall that in Alska as of Jan 2, 2019 we have two new census areas. This data has that updated, but the old one is dropped. \n",
        "# Let's add that back\n",
        "county_cbsa_df = county_cbsa_df.append({'county':\"Valdez-Cordova Census Area\", 'state':'Alaska', 'population': 18404, 'cbsa': None,'cbsa_type': None}, ignore_index = True)"
      ],
      "execution_count": 0,
      "outputs": []
    },
    {
      "cell_type": "code",
      "metadata": {
        "id": "HfMAEU3SQqu0",
        "colab_type": "code",
        "colab": {}
      },
      "source": [
        "# Debug\n",
        "# Let's check how data looks after changes\n",
        "# county_cbsa_df.info()\n",
        "# We see that only 1806 cbsa types, but 1874 cbsa values. what are we mssing in our regex? \n",
        "# county_cbsa_df[['cbsa', 'cbsa_type']].query(\"cbsa_type.isna() & cbsa.notnull()\", engine = 'python')\n",
        "# Let's try to fix that as well\n",
        "# county_cbsa_df[['cbsa', 'cbsa_type']].query(\"cbsa_type.isna() & cbsa.notnull()\", engine = 'python')\n",
        "# county_cbsa_df.columns\n",
        "# county_cbsa_df.columns = ['county','state', 'population', 'cbsa']\n",
        "# county_cbsa_df.head()"
      ],
      "execution_count": 0,
      "outputs": []
    },
    {
      "cell_type": "code",
      "metadata": {
        "id": "SDBkTwoz5qbw",
        "colab_type": "code",
        "outputId": "9e9e27e8-859f-48b3-88e3-ca75f0d25770",
        "colab": {
          "base_uri": "https://localhost:8080/",
          "height": 321
        }
      },
      "source": [
        "# Step 3: Blend Data with State and County FIPS data so we we will a dataframe with all features\n",
        "# Step 3.1: Blend with County dataframe which has 3242 entries to get FIPS for each county in MSA area\n",
        "county_cbsa_full_df = county_cbsa_df.merge(county_df, how = 'inner', on = ['county', 'state'])\n",
        "county_cbsa_full_df = county_cbsa_full_df.query('population != 0')\n",
        "\n",
        "county_cbsa_full_df = county_cbsa_full_df.merge(state_df, on = ['state']).rename({'fips_x': 'fips'},axis = 1).drop('fips_y',axis = 1)\n",
        "print(\"\\n============================== county_cbsa_full_df: Full CBSA and County dataset w/ FIPS and Population ===========================================\")\n",
        "county_cbsa_full_df.info()"
      ],
      "execution_count": 0,
      "outputs": [
        {
          "output_type": "stream",
          "text": [
            "\n",
            "============================== county_cbsa_full_df: Full CBSA and County dataset w/ FIPS and Population ===========================================\n",
            "<class 'pandas.core.frame.DataFrame'>\n",
            "Int64Index: 3234 entries, 0 to 3233\n",
            "Data columns (total 7 columns):\n",
            " #   Column      Non-Null Count  Dtype \n",
            "---  ------      --------------  ----- \n",
            " 0   county      3234 non-null   object\n",
            " 1   state       3234 non-null   object\n",
            " 2   population  3234 non-null   int64 \n",
            " 3   cbsa        1874 non-null   object\n",
            " 4   cbsa_type   1874 non-null   object\n",
            " 5   fips        3234 non-null   int64 \n",
            " 6   state_code  3234 non-null   object\n",
            "dtypes: int64(2), object(5)\n",
            "memory usage: 202.1+ KB\n"
          ],
          "name": "stdout"
        }
      ]
    },
    {
      "cell_type": "code",
      "metadata": {
        "id": "PxOEmoRBh072",
        "colab_type": "code",
        "outputId": "f35ad43b-eecd-4122-e1b3-df8b81c545e4",
        "colab": {
          "base_uri": "https://localhost:8080/",
          "height": 268
        }
      },
      "source": [
        "# Enriched State dataset with population estimate and fips code\n",
        "state_full_df = county_cbsa_full_df.groupby('state').sum().reset_index().merge(state_df, on = 'state').drop('fips_x', axis = 1).rename({'fips_y': 'fips'}, axis = 1)\n",
        "print(\"\\n============================== state_full_df: Full State dataset w/ Population and FIPS ===========================================\")\n",
        "state_full_df.info()"
      ],
      "execution_count": 0,
      "outputs": [
        {
          "output_type": "stream",
          "text": [
            "\n",
            "============================== state_full_df: Full State dataset w/ Population and FIPS ===========================================\n",
            "<class 'pandas.core.frame.DataFrame'>\n",
            "Int64Index: 57 entries, 0 to 56\n",
            "Data columns (total 4 columns):\n",
            " #   Column      Non-Null Count  Dtype \n",
            "---  ------      --------------  ----- \n",
            " 0   state       57 non-null     object\n",
            " 1   population  57 non-null     int64 \n",
            " 2   state_code  57 non-null     object\n",
            " 3   fips        57 non-null     int64 \n",
            "dtypes: int64(2), object(2)\n",
            "memory usage: 2.2+ KB\n"
          ],
          "name": "stdout"
        }
      ]
    },
    {
      "cell_type": "code",
      "metadata": {
        "id": "Ve7-RjabwoVH",
        "colab_type": "code",
        "colab": {}
      },
      "source": [
        "# state_df.head()"
      ],
      "execution_count": 0,
      "outputs": []
    },
    {
      "cell_type": "code",
      "metadata": {
        "id": "eXgvjE0JuQoE",
        "colab_type": "code",
        "outputId": "5e5ce49a-7d86-4267-d927-2ce1abd84a24",
        "colab": {
          "base_uri": "https://localhost:8080/",
          "height": 232
        }
      },
      "source": [
        "# Enriched State dataset with population estimate and fips code\n",
        "cbsa_full_df = county_cbsa_full_df.groupby('cbsa').sum().reset_index().drop('fips', axis = 1)\n",
        "print(\"\\n============================== cbsa_full_df: Full CBSA dataset w/ Population ===========================================\")\n",
        "cbsa_full_df.info()"
      ],
      "execution_count": 0,
      "outputs": [
        {
          "output_type": "stream",
          "text": [
            "\n",
            "============================== cbsa_full_df: Full CBSA dataset w/ Population ===========================================\n",
            "<class 'pandas.core.frame.DataFrame'>\n",
            "RangeIndex: 854 entries, 0 to 853\n",
            "Data columns (total 2 columns):\n",
            " #   Column      Non-Null Count  Dtype \n",
            "---  ------      --------------  ----- \n",
            " 0   cbsa        854 non-null    object\n",
            " 1   population  854 non-null    int64 \n",
            "dtypes: int64(1), object(1)\n",
            "memory usage: 13.5+ KB\n"
          ],
          "name": "stdout"
        }
      ]
    },
    {
      "cell_type": "markdown",
      "metadata": {
        "id": "9YKYkk1OwyAU",
        "colab_type": "text"
      },
      "source": [
        "## Save Data Files\n",
        "\n",
        "Now that we have captured data for State, County, and CBSA level. Let's Save the Data Files, so we have persistent records. It help us when connection is down or we do not want to reach out to internet everytime we run our analysis.   "
      ]
    },
    {
      "cell_type": "code",
      "metadata": {
        "id": "mSyYE8sHt6E0",
        "colab_type": "code",
        "colab": {}
      },
      "source": [
        "state_full_df.to_csv('drive/My Drive/Colab Notebooks/assets/state_full.csv')"
      ],
      "execution_count": 0,
      "outputs": []
    },
    {
      "cell_type": "code",
      "metadata": {
        "id": "V40BJKz0yPKf",
        "colab_type": "code",
        "colab": {}
      },
      "source": [
        "county_cbsa_full_df.to_csv('drive/My Drive/Colab Notebooks/assets/county_cbsa_full.csv')"
      ],
      "execution_count": 0,
      "outputs": []
    },
    {
      "cell_type": "code",
      "metadata": {
        "id": "FNG33zhkytm5",
        "colab_type": "code",
        "colab": {}
      },
      "source": [
        "cbsa_full_df.to_csv('drive/My Drive/Colab Notebooks/assets/cbsa_full.csv')"
      ],
      "execution_count": 0,
      "outputs": []
    },
    {
      "cell_type": "code",
      "metadata": {
        "id": "RPqyRyi6y2rP",
        "colab_type": "code",
        "colab": {}
      },
      "source": [
        ""
      ],
      "execution_count": 0,
      "outputs": []
    }
  ]
}