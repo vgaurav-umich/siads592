{
  "nbformat": 4,
  "nbformat_minor": 0,
  "metadata": {
    "colab": {
      "name": "get_covid19_data.ipynb",
      "provenance": [],
      "collapsed_sections": [],
      "mount_file_id": "12dw_2zmdUX5i9TstBJ-6xUvQn9VMJgQe",
      "authorship_tag": "ABX9TyMQ0Fg2VsgSGeslAY9CSluS",
      "include_colab_link": true
    },
    "kernelspec": {
      "name": "python3",
      "display_name": "Python 3"
    }
  },
  "cells": [
    {
      "cell_type": "markdown",
      "metadata": {
        "id": "view-in-github",
        "colab_type": "text"
      },
      "source": [
        "<a href=\"https://colab.research.google.com/github/vgaurav-umich/siads592/blob/master/get_covid19_data.ipynb\" target=\"_parent\"><img src=\"https://colab.research.google.com/assets/colab-badge.svg\" alt=\"Open In Colab\"/></a>"
      ]
    },
    {
      "cell_type": "markdown",
      "metadata": {
        "id": "hsYMxSB1nqA0",
        "colab_type": "text"
      },
      "source": [
        "# Covid-19 Datasets\n",
        "This Notebook will download required covid-19 datasets.\n",
        "\n",
        "We will be getting Covid-19 datasets from variety of sources incl.\n",
        "1. [New York Times](https://github.com/nytimes/covid-19-data)\n",
        "2. [Covid Tracking Project from The Atlantic](https://covidtracking.com/race)                                                   \n",
        "\n"
      ]
    },
    {
      "cell_type": "code",
      "metadata": {
        "id": "5YLVxZ53kyr-",
        "colab_type": "code",
        "colab": {}
      },
      "source": [
        "import pandas as pd\n",
        "import numpy as np"
      ],
      "execution_count": 0,
      "outputs": []
    },
    {
      "cell_type": "markdown",
      "metadata": {
        "id": "iquAUfMB4SeW",
        "colab_type": "text"
      },
      "source": [
        "## Purpose\n",
        "\n",
        "The purpose of this notebook is to download factual data about COVID-19 infections and deaths. \n",
        "\n",
        "The NYT data file will give us county level death and infection data. File is updated Daily and contains cumulative counts of cases.  "
      ]
    },
    {
      "cell_type": "markdown",
      "metadata": {
        "id": "LVJBTlcCp2sh",
        "colab_type": "text"
      },
      "source": [
        "**Note about Live Data**\n",
        "\n",
        "NYT provides two sets of data with cumulative counts of coronavirus cases and deaths: one with our most current numbers for each geography and another with historical data showing the tally for each day for each geography.\n",
        "\n",
        "Turning live indicator will force this notebook to fetch live data. Deafult is False. A key difference between the historical and live files is that the numbers in the historical files are the final counts at the end of each day, while the live files have figures that may be a partial count released during the day but cannot necessarily be considered the final, end-of-day tally.\n"
      ]
    },
    {
      "cell_type": "markdown",
      "metadata": {
        "id": "KmoYCorprUSz",
        "colab_type": "text"
      },
      "source": [
        "## Download NYT Data \n",
        "\n",
        "**US County level deaths and infection cases cumulative count**\n",
        "\n",
        "\n",
        "**Note from NYT Team** \n",
        "\n",
        "> Each row of data reports the cumulative number of coronavirus cases and deaths based on our best reporting up to the moment we publish an update. Our counts include both laboratory confirmed and probable cases using criteria that were developed by states and the federal government. Not all geographies are reporting probable cases and yet others are providing confirmed and probable as a single total. Please read here for a full discussion of this issue.\n",
        "\n",
        "> We do our best to revise earlier entries in the data when we receive new information. If a county is not listed for a date, then there were zero reported confirmed cases and deaths.\n",
        "\n",
        "> State and county files contain FIPS codes, a standard geographic identifier, to make it easier for an analyst to combine this data with other data sets like a map file or population data."
      ]
    },
    {
      "cell_type": "markdown",
      "metadata": {
        "id": "h7z1q5jhAPNG",
        "colab_type": "text"
      },
      "source": [
        "### Download"
      ]
    },
    {
      "cell_type": "code",
      "metadata": {
        "id": "huypdi-zk-fV",
        "colab_type": "code",
        "colab": {}
      },
      "source": [
        "# indicator to store live status of data pull\n",
        "live_data_ind = False #@param {type:\"boolean\"}\n",
        "\n",
        "if live_data_ind == False:\n",
        "  nyt_covid19_county_data_file_path = \"https://raw.githubusercontent.com/nytimes/covid-19-data/master/us-counties.csv\" #@param {type:\"raw\"}\n",
        "else:\n",
        "  nyt_covid19_county_data_file_path = \"https://raw.githubusercontent.com/nytimes/covid-19-data/master/live/us-counties.csv\" #@param {type:\"raw\"}"
      ],
      "execution_count": 0,
      "outputs": []
    },
    {
      "cell_type": "code",
      "metadata": {
        "id": "fvbcz0kTk6O9",
        "colab_type": "code",
        "colab": {}
      },
      "source": [
        "def read_file(data_file_path):\n",
        "  return pd.read_csv(data_file_path)"
      ],
      "execution_count": 0,
      "outputs": []
    },
    {
      "cell_type": "code",
      "metadata": {
        "id": "TmX3Km9tmpPB",
        "colab_type": "code",
        "colab": {}
      },
      "source": [
        "# Step 1: Load Data\n",
        "# The daily number of cases and deaths nationwide, by states and county, including U.S. territories and the District of Columbia\n",
        "covid19_nyt_county_df = read_file(nyt_covid19_county_data_file_path)"
      ],
      "execution_count": 0,
      "outputs": []
    },
    {
      "cell_type": "code",
      "metadata": {
        "id": "h319TkIxmydA",
        "colab_type": "code",
        "colab": {}
      },
      "source": [
        "# Debug\n",
        "# Check data types to convert\n",
        "# covid19_nyt_county_df.info()\n",
        "# We see that lot of places data need to changed\n",
        "# Date is in object type, fips is in float type"
      ],
      "execution_count": 0,
      "outputs": []
    },
    {
      "cell_type": "code",
      "metadata": {
        "id": "2VvsYQIe7uoc",
        "colab_type": "code",
        "colab": {}
      },
      "source": [
        "# Debug\n",
        "# Check to see latest data\n",
        "# us_county_data_df.sort_values('date', ascending = False).head() \n",
        "# Get a feel of data to figure out changes we need to make\n",
        "# us_county_data_df.head()\n",
        "# We may not need to print every county, but in case we need to debug\n",
        "# [county for county in sorted(us_county_data_df['county'].unique())]\n",
        "# print(f\"total number of counties represented in this dataset: {len(us_county_data_df['county'].unique())}.\")\n",
        "# print(f\"total number of Null FIPS represented in this dataset: {us_county_data_df['fips'].isnull().sum()}.\")\n",
        "# us_county_data_df.query('fips.isnull()', engine = 'python')\n",
        "# We now know that lot of COunty values are coded as UNKNOWN\n",
        "# We see that NYT dataset does not have County assigned to each rows. How to handle with UNKNOWN depneds on analysis we will be doing"
      ],
      "execution_count": 0,
      "outputs": []
    },
    {
      "cell_type": "markdown",
      "metadata": {
        "id": "9MpRfdL0sXMz",
        "colab_type": "text"
      },
      "source": [
        "### Data Clean-up"
      ]
    },
    {
      "cell_type": "code",
      "metadata": {
        "id": "KLofGRNi0NkO",
        "colab_type": "code",
        "outputId": "6c1e372a-d3f1-404e-8768-9b78baa5e0f3",
        "colab": {
          "base_uri": "https://localhost:8080/",
          "height": 284
        }
      },
      "source": [
        "# Step 2 Clean-up\n",
        "# need to change datatype for date columns\n",
        "covid19_nyt_county_df['date'] = pd.to_datetime(covid19_nyt_county_df['date'])\n",
        "\n",
        "covid19_nyt_county_df['county'] = covid19_nyt_county_df['county'].str.replace(' city', '')\n",
        "covid19_nyt_county_df['county'] = covid19_nyt_county_df['county'].str.replace('Larue', 'LaRue')\n",
        "covid19_nyt_county_df['county'] = covid19_nyt_county_df['county'].str.replace('Juneau City and Borough', 'Juneau')\n",
        "covid19_nyt_county_df['county'] = covid19_nyt_county_df['county'].str.replace('New York City', 'New York')\n",
        "covid19_nyt_county_df['county'] = np.where((covid19_nyt_county_df['fips'] == 24510),'Baltimore City', covid19_nyt_county_df['county'])\n",
        "covid19_nyt_county_df['county'] = covid19_nyt_county_df['county'].str.replace('Sitka City and Borough', 'Sitka')\n",
        "# Interestingly NYT dataset is missing FIPS code for New York City\n",
        "covid19_nyt_county_df['fips'] = np.where((covid19_nyt_county_df['county'] == 'New York'), 36061, covid19_nyt_county_df['fips'])\n",
        "print(\"\\n==================================== Covid-19 NYT County Dataset =================================\")\n",
        "covid19_nyt_county_df.info()"
      ],
      "execution_count": 0,
      "outputs": [
        {
          "output_type": "stream",
          "text": [
            "\n",
            "==================================== Covid-19 NYT County Dataset =================================\n",
            "<class 'pandas.core.frame.DataFrame'>\n",
            "RangeIndex: 224666 entries, 0 to 224665\n",
            "Data columns (total 6 columns):\n",
            " #   Column  Non-Null Count   Dtype         \n",
            "---  ------  --------------   -----         \n",
            " 0   date    224666 non-null  datetime64[ns]\n",
            " 1   county  224666 non-null  object        \n",
            " 2   state   224666 non-null  object        \n",
            " 3   fips    222381 non-null  float64       \n",
            " 4   cases   224666 non-null  int64         \n",
            " 5   deaths  224666 non-null  int64         \n",
            "dtypes: datetime64[ns](1), float64(1), int64(2), object(2)\n",
            "memory usage: 10.3+ MB\n"
          ],
          "name": "stdout"
        }
      ]
    },
    {
      "cell_type": "markdown",
      "metadata": {
        "id": "wAebbkC7rtd8",
        "colab_type": "text"
      },
      "source": [
        "### Enrich Data"
      ]
    },
    {
      "cell_type": "code",
      "metadata": {
        "id": "HR9Hs8Gn8iz8",
        "colab_type": "code",
        "outputId": "5112cfe3-3e25-466e-eef5-85e8aba3c8ba",
        "colab": {
          "base_uri": "https://localhost:8080/",
          "height": 1000
        }
      },
      "source": [
        "# Enrich NYT data with our Demographic Datasets\n",
        "%run 'get_demographic_data.ipynb'"
      ],
      "execution_count": 0,
      "outputs": [
        {
          "output_type": "stream",
          "text": [
            "/usr/local/lib/python3.6/dist-packages/IPython/core/interactiveshell.py:2822: DtypeWarning: Columns (7,9,11,12,13,14,15,16,17,18,19,20,21,22,23,24,25,26,27,28,29,30,31,32,33,34,35,36,37,38,39,40,41,42,43,44,45,46,47,48,49,50,51,52,53,54,55,56,57,58,59,60,61,62,63,64,65,66,67,68,69,70,71,72,73,74,75,76,77,78,79,80,81,82,83,84,85,86,87,88,89,90,91,92,93,94,95,96,97,98,99,100,101,102,103,104,105,106,107,108,109,110,111,112,113,114,115,116,117,118,119,120,121,122,123,124,125,126,127,129,131,132,133,134,135,136,137,138,139,140,141,142,143,144,145,146,147,148,149,150,151,152,153,154,155,157,159,161,163,164,165,166,167,168,169,170,171,172,173,174,175,176,177,178,179,181,183,184,185,186,187,188,189,190,191,192,193,194,195,196,197,198,199,200,201,202,203,204,205,206,207,208,209,210,211,212,213,214,215,216,217,218,219,220,223,224,225,227,228,229,230,231,232,233,234,235,237,239,241,243,245,247,251,253,255,256,257,258,259,260,261,262,263,265,267,269,271,273,275,277,279,281,283,284,285,286,287,288,289,290,291,293,295,296,297,298,299,300,301,302,303,304,307,309,311,312,313,314,315,317,319,320,321,322,323,324,325,326,327,329,331,333,335,337,339,341,343,347,349,351,353,355,357) have mixed types.Specify dtype option on import or set low_memory=False.\n",
            "  if self.run_code(code, result):\n"
          ],
          "name": "stderr"
        },
        {
          "output_type": "stream",
          "text": [
            "\n",
            "============================== race_ethnicity_county_df: Cleaned Race Ethnicity dataset ===========================================\n",
            "<class 'pandas.core.frame.DataFrame'>\n",
            "RangeIndex: 3273 entries, 1 to 3273\n",
            "Data columns (total 12 columns):\n",
            " #   Column                                     Non-Null Count  Dtype  \n",
            "---  ------                                     --------------  -----  \n",
            " 0   fips                                       3272 non-null   float64\n",
            " 1   geo_name                                   3273 non-null   object \n",
            " 2   hispanic_latino_any_race_PE                3273 non-null   float64\n",
            " 3   non_hispanic_latino_any_race_PE            3273 non-null   float64\n",
            " 4   white_alone_PE                             3273 non-null   float64\n",
            " 5   black_african_american_alone_PE            3273 non-null   float64\n",
            " 6   american_indian_alaska_native_alone_PE     3273 non-null   float64\n",
            " 7   asian_alone_PE                             3273 non-null   float64\n",
            " 8   native_hawaiian_pacific_islander_alone_PE  3273 non-null   float64\n",
            " 9   some_other_race_alone_PE                   3273 non-null   float64\n",
            " 10  two_or_more_races_PE                       3273 non-null   float64\n",
            " 11  state                                      3273 non-null   object \n",
            "dtypes: float64(10), object(2)\n",
            "memory usage: 307.0+ KB\n",
            "\n",
            " ============= First 52 rows contains data for US States, and last row contains data about whole US ============\n",
            "\n",
            "============================== county_cbsa_full_df: Full CBSA and County dataset w/ FIPS and Population ===========================================\n",
            "<class 'pandas.core.frame.DataFrame'>\n",
            "Int64Index: 3234 entries, 0 to 3233\n",
            "Data columns (total 6 columns):\n",
            " #   Column      Non-Null Count  Dtype \n",
            "---  ------      --------------  ----- \n",
            " 0   county      3234 non-null   object\n",
            " 1   state       3234 non-null   object\n",
            " 2   population  3234 non-null   int64 \n",
            " 3   cbsa        1874 non-null   object\n",
            " 4   cbsa_type   1874 non-null   object\n",
            " 5   fips        3234 non-null   int64 \n",
            "dtypes: int64(2), object(4)\n",
            "memory usage: 176.9+ KB\n",
            "\n",
            "============================== state_full_df: Full State dataset w/ Population and FIPS ===========================================\n",
            "<class 'pandas.core.frame.DataFrame'>\n",
            "Int64Index: 57 entries, 0 to 56\n",
            "Data columns (total 4 columns):\n",
            " #   Column      Non-Null Count  Dtype \n",
            "---  ------      --------------  ----- \n",
            " 0   state       57 non-null     object\n",
            " 1   population  57 non-null     int64 \n",
            " 2   state_code  57 non-null     object\n",
            " 3   fips        57 non-null     int64 \n",
            "dtypes: int64(2), object(2)\n",
            "memory usage: 2.2+ KB\n",
            "\n",
            "============================== cbsa_full_df: Full CBSA dataset w/ Population ===========================================\n",
            "<class 'pandas.core.frame.DataFrame'>\n",
            "RangeIndex: 854 entries, 0 to 853\n",
            "Data columns (total 2 columns):\n",
            " #   Column      Non-Null Count  Dtype \n",
            "---  ------      --------------  ----- \n",
            " 0   cbsa        854 non-null    object\n",
            " 1   population  854 non-null    int64 \n",
            "dtypes: int64(1), object(1)\n",
            "memory usage: 13.5+ KB\n",
            "\n",
            "============================== county_cbsa_demographic_df: CBSA County Level Demographic Dataset ===========================================\n",
            "<class 'pandas.core.frame.DataFrame'>\n",
            "Int64Index: 3220 entries, 0 to 3219\n",
            "Data columns (total 16 columns):\n",
            " #   Column                                     Non-Null Count  Dtype  \n",
            "---  ------                                     --------------  -----  \n",
            " 0   fips                                       3220 non-null   float64\n",
            " 1   geo_name                                   3220 non-null   object \n",
            " 2   hispanic_latino_any_race_PE                3220 non-null   float64\n",
            " 3   non_hispanic_latino_any_race_PE            3220 non-null   float64\n",
            " 4   white_alone_PE                             3220 non-null   float64\n",
            " 5   black_african_american_alone_PE            3220 non-null   float64\n",
            " 6   american_indian_alaska_native_alone_PE     3220 non-null   float64\n",
            " 7   asian_alone_PE                             3220 non-null   float64\n",
            " 8   native_hawaiian_pacific_islander_alone_PE  3220 non-null   float64\n",
            " 9   some_other_race_alone_PE                   3220 non-null   float64\n",
            " 10  two_or_more_races_PE                       3220 non-null   float64\n",
            " 11  state                                      3220 non-null   object \n",
            " 12  county                                     3220 non-null   object \n",
            " 13  population                                 3220 non-null   int64  \n",
            " 14  cbsa                                       1874 non-null   object \n",
            " 15  cbsa_type                                  1874 non-null   object \n",
            "dtypes: float64(10), int64(1), object(5)\n",
            "memory usage: 427.7+ KB\n",
            "\n",
            "============================== state_demographic_df: State Level Demographic Dataset ===========================================\n",
            "<class 'pandas.core.frame.DataFrame'>\n",
            "Int64Index: 52 entries, 0 to 51\n",
            "Data columns (total 14 columns):\n",
            " #   Column                                     Non-Null Count  Dtype  \n",
            "---  ------                                     --------------  -----  \n",
            " 0   state                                      52 non-null     object \n",
            " 1   population                                 52 non-null     int64  \n",
            " 2   state_code                                 52 non-null     object \n",
            " 3   fips                                       52 non-null     int64  \n",
            " 4   geo_name                                   52 non-null     object \n",
            " 5   hispanic_latino_any_race_PE                52 non-null     float64\n",
            " 6   non_hispanic_latino_any_race_PE            52 non-null     float64\n",
            " 7   white_alone_PE                             52 non-null     float64\n",
            " 8   black_african_american_alone_PE            52 non-null     float64\n",
            " 9   american_indian_alaska_native_alone_PE     52 non-null     float64\n",
            " 10  asian_alone_PE                             52 non-null     float64\n",
            " 11  native_hawaiian_pacific_islander_alone_PE  52 non-null     float64\n",
            " 12  some_other_race_alone_PE                   52 non-null     float64\n",
            " 13  two_or_more_races_PE                       52 non-null     float64\n",
            "dtypes: float64(9), int64(2), object(3)\n",
            "memory usage: 6.1+ KB\n",
            "\n",
            "============================== cbsa_demographic_df: SBSA Level Demographic Dataset ===========================================\n",
            "<class 'pandas.core.frame.DataFrame'>\n",
            "RangeIndex: 875 entries, 0 to 874\n",
            "Data columns (total 12 columns):\n",
            " #   Column                                     Non-Null Count  Dtype  \n",
            "---  ------                                     --------------  -----  \n",
            " 0   cbsa                                       875 non-null    object \n",
            " 1   cbsa_type                                  875 non-null    object \n",
            " 2   population                                 875 non-null    int64  \n",
            " 3   hispanic_latino_any_race_PE                875 non-null    float64\n",
            " 4   white_alone_PE                             875 non-null    float64\n",
            " 5   black_african_american_alone_PE            875 non-null    float64\n",
            " 6   american_indian_alaska_native_alone_PE     875 non-null    float64\n",
            " 7   asian_alone_PE                             875 non-null    float64\n",
            " 8   native_hawaiian_pacific_islander_alone_PE  875 non-null    float64\n",
            " 9   some_other_race_alone_PE                   875 non-null    float64\n",
            " 10  two_or_more_races_PE                       875 non-null    float64\n",
            " 11  total                                      875 non-null    float64\n",
            "dtypes: float64(9), int64(1), object(2)\n",
            "memory usage: 82.2+ KB\n"
          ],
          "name": "stdout"
        }
      ]
    },
    {
      "cell_type": "code",
      "metadata": {
        "id": "M2Ld6J_y27B7",
        "colab_type": "code",
        "colab": {}
      },
      "source": [
        "def calc_death_rate(df):\n",
        "  df['deaths_per_100k'] = round(df['deaths'] * 100000 / df['population'])\n",
        "  df['cases_per_100k'] = round(df['cases'] * 100000 / df['population'])\n",
        "  return df"
      ],
      "execution_count": 0,
      "outputs": []
    },
    {
      "cell_type": "code",
      "metadata": {
        "id": "nTPaYpdqGNtE",
        "colab_type": "code",
        "outputId": "923f2998-8e21-445c-d233-beb6d25630d9",
        "colab": {
          "base_uri": "https://localhost:8080/",
          "height": 515
        }
      },
      "source": [
        "covid19_demographic_state_df = covid19_nyt_county_df.groupby(\n",
        "    ['state', 'date']\n",
        "  ).sum().reset_index().drop(\n",
        "      'fips', \n",
        "      axis = 1\n",
        "  ).merge(\n",
        "      state_demographic_df, \n",
        "      on = 'state')\n",
        "  \n",
        "covid19_demographic_state_df = calc_death_rate(covid19_demographic_state_df)\n",
        "print(\"\\n==================================== covid19_demographic_state_df: Covid-19 State Dataset w/ Demographics =================================\")\n",
        "covid19_demographic_state_df.info()"
      ],
      "execution_count": 0,
      "outputs": [
        {
          "output_type": "stream",
          "text": [
            "\n",
            "==================================== covid19_demographic_state_df: Covid-19 State Dataset w/ Demographics =================================\n",
            "<class 'pandas.core.frame.DataFrame'>\n",
            "Int64Index: 5262 entries, 0 to 5261\n",
            "Data columns (total 19 columns):\n",
            " #   Column                                     Non-Null Count  Dtype         \n",
            "---  ------                                     --------------  -----         \n",
            " 0   state                                      5262 non-null   object        \n",
            " 1   date                                       5262 non-null   datetime64[ns]\n",
            " 2   cases                                      5262 non-null   int64         \n",
            " 3   deaths                                     5262 non-null   int64         \n",
            " 4   population                                 5262 non-null   int64         \n",
            " 5   state_code                                 5262 non-null   object        \n",
            " 6   fips                                       5262 non-null   int64         \n",
            " 7   geo_name                                   5262 non-null   object        \n",
            " 8   hispanic_latino_any_race_PE                5262 non-null   float64       \n",
            " 9   non_hispanic_latino_any_race_PE            5262 non-null   float64       \n",
            " 10  white_alone_PE                             5262 non-null   float64       \n",
            " 11  black_african_american_alone_PE            5262 non-null   float64       \n",
            " 12  american_indian_alaska_native_alone_PE     5262 non-null   float64       \n",
            " 13  asian_alone_PE                             5262 non-null   float64       \n",
            " 14  native_hawaiian_pacific_islander_alone_PE  5262 non-null   float64       \n",
            " 15  some_other_race_alone_PE                   5262 non-null   float64       \n",
            " 16  two_or_more_races_PE                       5262 non-null   float64       \n",
            " 17  deaths_per_100k                            5262 non-null   float64       \n",
            " 18  cases_per_100k                             5262 non-null   float64       \n",
            "dtypes: datetime64[ns](1), float64(11), int64(4), object(3)\n",
            "memory usage: 822.2+ KB\n"
          ],
          "name": "stdout"
        }
      ]
    },
    {
      "cell_type": "code",
      "metadata": {
        "id": "x7fSLhPkorTH",
        "colab_type": "code",
        "outputId": "d82dd038-ab26-4725-d571-b407cbdf47da",
        "colab": {
          "base_uri": "https://localhost:8080/",
          "height": 550
        }
      },
      "source": [
        "# Get MSA level data from NYT dataset by 1. merging with county CBSA dataset and then grouping on CBSA\n",
        "covid19_demographic_county_cbsa_df = covid19_nyt_county_df.merge(\n",
        "    county_cbsa_demographic_df, \n",
        "    on = 'fips'\n",
        "  ).drop(\n",
        "      ['county_y', 'state_y'], \n",
        "      axis = 1\n",
        "  ).rename(\n",
        "      {'county_x': 'county', 'state_x': 'state'}, \n",
        "      axis = 1)\n",
        "  \n",
        "covid19_demographic_county_cbsa_df = calc_death_rate(covid19_demographic_county_cbsa_df)\n",
        "print(\"\\n==================================== covid19_demographic_county_cbsa_df: Covid-19 CBSA County Dataset w/ Demographics =================================\")\n",
        "covid19_demographic_county_cbsa_df.info()"
      ],
      "execution_count": 0,
      "outputs": [
        {
          "output_type": "stream",
          "text": [
            "\n",
            "==================================== covid19_demographic_county_cbsa_df: Covid-19 CBSA County Dataset w/ Demographics =================================\n",
            "<class 'pandas.core.frame.DataFrame'>\n",
            "Int64Index: 222381 entries, 0 to 222380\n",
            "Data columns (total 21 columns):\n",
            " #   Column                                     Non-Null Count   Dtype         \n",
            "---  ------                                     --------------   -----         \n",
            " 0   date                                       222381 non-null  datetime64[ns]\n",
            " 1   county                                     222381 non-null  object        \n",
            " 2   state                                      222381 non-null  object        \n",
            " 3   fips                                       222381 non-null  float64       \n",
            " 4   cases                                      222381 non-null  int64         \n",
            " 5   deaths                                     222381 non-null  int64         \n",
            " 6   geo_name                                   222381 non-null  object        \n",
            " 7   hispanic_latino_any_race_PE                222381 non-null  float64       \n",
            " 8   non_hispanic_latino_any_race_PE            222381 non-null  float64       \n",
            " 9   white_alone_PE                             222381 non-null  float64       \n",
            " 10  black_african_american_alone_PE            222381 non-null  float64       \n",
            " 11  american_indian_alaska_native_alone_PE     222381 non-null  float64       \n",
            " 12  asian_alone_PE                             222381 non-null  float64       \n",
            " 13  native_hawaiian_pacific_islander_alone_PE  222381 non-null  float64       \n",
            " 14  some_other_race_alone_PE                   222381 non-null  float64       \n",
            " 15  two_or_more_races_PE                       222381 non-null  float64       \n",
            " 16  population                                 222381 non-null  int64         \n",
            " 17  cbsa                                       144014 non-null  object        \n",
            " 18  cbsa_type                                  144014 non-null  object        \n",
            " 19  deaths_per_100k                            222381 non-null  float64       \n",
            " 20  cases_per_100k                             222381 non-null  float64       \n",
            "dtypes: datetime64[ns](1), float64(12), int64(3), object(5)\n",
            "memory usage: 37.3+ MB\n"
          ],
          "name": "stdout"
        }
      ]
    },
    {
      "cell_type": "code",
      "metadata": {
        "colab_type": "code",
        "outputId": "acdf9f95-f18d-48bb-cbc8-12d1bc9fb3d1",
        "id": "UePVpX5InDNP",
        "colab": {
          "base_uri": "https://localhost:8080/",
          "height": 479
        }
      },
      "source": [
        "covid19_demographic_cbsa_df = covid19_demographic_county_cbsa_df.groupby(\n",
        "    ['cbsa', 'date', 'cbsa_type']\n",
        "  ).sum()[['cases', 'deaths']].reset_index().merge(\n",
        "      cbsa_demographic_df, \n",
        "      on = ['cbsa', 'cbsa_type'])\n",
        "  \n",
        "covid19_demographic_cbsa_df = calc_death_rate(covid19_demographic_cbsa_df)\n",
        "print(\"\\n==================================== covid19_demographic_cbsa_df: Covid-19 CBSA Only Dataset w/ Demographics =================================\")\n",
        "covid19_demographic_cbsa_df.info()"
      ],
      "execution_count": 0,
      "outputs": [
        {
          "output_type": "stream",
          "text": [
            "\n",
            "==================================== covid19_demographic_cbsa_df: Covid-19 CBSA Only Dataset w/ Demographics =================================\n",
            "<class 'pandas.core.frame.DataFrame'>\n",
            "Int64Index: 71799 entries, 0 to 71798\n",
            "Data columns (total 17 columns):\n",
            " #   Column                                     Non-Null Count  Dtype         \n",
            "---  ------                                     --------------  -----         \n",
            " 0   cbsa                                       71799 non-null  object        \n",
            " 1   date                                       71799 non-null  datetime64[ns]\n",
            " 2   cbsa_type                                  71799 non-null  object        \n",
            " 3   cases                                      71799 non-null  int64         \n",
            " 4   deaths                                     71799 non-null  int64         \n",
            " 5   population                                 71799 non-null  int64         \n",
            " 6   hispanic_latino_any_race_PE                71799 non-null  float64       \n",
            " 7   white_alone_PE                             71799 non-null  float64       \n",
            " 8   black_african_american_alone_PE            71799 non-null  float64       \n",
            " 9   american_indian_alaska_native_alone_PE     71799 non-null  float64       \n",
            " 10  asian_alone_PE                             71799 non-null  float64       \n",
            " 11  native_hawaiian_pacific_islander_alone_PE  71799 non-null  float64       \n",
            " 12  some_other_race_alone_PE                   71799 non-null  float64       \n",
            " 13  two_or_more_races_PE                       71799 non-null  float64       \n",
            " 14  total                                      71799 non-null  float64       \n",
            " 15  deaths_per_100k                            71799 non-null  float64       \n",
            " 16  cases_per_100k                             71799 non-null  float64       \n",
            "dtypes: datetime64[ns](1), float64(11), int64(3), object(2)\n",
            "memory usage: 9.9+ MB\n"
          ],
          "name": "stdout"
        }
      ]
    },
    {
      "cell_type": "markdown",
      "metadata": {
        "id": "2ucAAYR8KBAf",
        "colab_type": "text"
      },
      "source": [
        "## Download The Atlantic (COVID Tracking Project) Dataset for Deaths by Race/ Ethnicity\n"
      ]
    },
    {
      "cell_type": "code",
      "metadata": {
        "id": "GvBInn68KYWF",
        "colab_type": "code",
        "colab": {}
      },
      "source": [
        "atlantic_url = \"https://docs.google.com/spreadsheets/d/e/2PACX-1vR_xmYt4ACPDZCDJcY12kCiMiH0ODyx3E1ZvgOHB8ae1tRcjXbs_yWBOA4j4uoCEADVfC1PS2jYO68B/pub?gid=43720681&single=true&output=csv\" #@param {type:\"raw\"}"
      ],
      "execution_count": 0,
      "outputs": []
    },
    {
      "cell_type": "code",
      "metadata": {
        "id": "iqEpAGT7KcU-",
        "colab_type": "code",
        "colab": {}
      },
      "source": [
        "# Read data from The Atlantic\n",
        "covid19_atlantic_race_death_state_df = read_file(atlantic_url)"
      ],
      "execution_count": 0,
      "outputs": []
    },
    {
      "cell_type": "code",
      "metadata": {
        "id": "D0xgPI1CKccf",
        "colab_type": "code",
        "colab": {}
      },
      "source": [
        "# print(\"\\n============ covid19_atlantic_race_death_state_df: Covid-19 Atlantic Dataset with Race/Entnicity Case and Deaths ===========\")\n",
        "# Let's examine what this dataset includes\n",
        "# covid19_atlantic_race_death_state_df.info()\n",
        "# It has 56 entries likely for each state plus some union territories \n",
        "# print(covid19_atlantic_race_death_state_df.head())\n",
        "#  We also see that they are updating data daily"
      ],
      "execution_count": 0,
      "outputs": []
    },
    {
      "cell_type": "code",
      "metadata": {
        "id": "DEslxWSnKcfy",
        "colab_type": "code",
        "colab": {}
      },
      "source": [
        "# Fix Datetime Column Datatype\n",
        "covid19_atlantic_race_death_state_df['Date'] = pd.to_datetime(\n",
        "    covid19_atlantic_race_death_state_df['Date'], \n",
        "    format = \"%Y%m%d\", \n",
        "    errors = 'coerce')\n",
        "# covid19_atlantic_race_death_state_df.head()"
      ],
      "execution_count": 0,
      "outputs": []
    },
    {
      "cell_type": "code",
      "metadata": {
        "id": "9lpwSLxcKciz",
        "colab_type": "code",
        "colab": {}
      },
      "source": [
        "# Enrich this dataset with FIPS codes and State Name along with Other Demographics.\n",
        "# We have that info in already curated covid19_demographic_state_df dataset\n",
        "\n",
        "# covid19_nyt_county_df.query('state == \"Guam\"')\n",
        "# state_full_df # NMI - 69 AS - 60 GU - 66\n",
        "# covid19_nyt_county_df.query('state == \"Northern Mariana Islands\" and date == \"2020-06-07\"')\n",
        "# covid19_nyt_county_df.query('county == \"Unknown\" and date == \"2020-06-07\"')\n",
        "\n",
        "# race enthnity data from US Census doe snot have any records for NMI and Guam\n",
        "# race_ethnicity_county_df.query('geo_name.str.contains(\"Northern Mariana Islands\")', engine =  'python')"
      ],
      "execution_count": 0,
      "outputs": []
    },
    {
      "cell_type": "code",
      "metadata": {
        "id": "AriGuVutKcmO",
        "colab_type": "code",
        "outputId": "b5b786a5-666f-4aa1-e242-517efb04b9a5",
        "colab": {
          "base_uri": "https://localhost:8080/",
          "height": 959
        }
      },
      "source": [
        "racial_analysis_df = covid19_atlantic_race_death_state_df.merge(\n",
        "    covid19_demographic_state_df, \n",
        "    left_on = ['Date', 'State'], \n",
        "    right_on = ['date', 'state_code']\n",
        "  ).drop(\n",
        "      ['State', 'Date', 'geo_name'], \n",
        "      axis = 1)\n",
        "  \n",
        "print(\"\\n============ racial_analysis_df: Covid-19 Atlantic Dataset with Enriched Race/Entnicity Case and Deaths ===========\")\n",
        "racial_analysis_df.info()"
      ],
      "execution_count": 0,
      "outputs": [
        {
          "output_type": "stream",
          "text": [
            "\n",
            "============ racial_analysis_df: Covid-19 Atlantic Dataset with Enriched Race/Entnicity Case and Deaths ===========\n",
            "<class 'pandas.core.frame.DataFrame'>\n",
            "Int64Index: 52 entries, 0 to 51\n",
            "Data columns (total 44 columns):\n",
            " #   Column                                     Non-Null Count  Dtype         \n",
            "---  ------                                     --------------  -----         \n",
            " 0   Cases_Total                                52 non-null     float64       \n",
            " 1   Cases_White                                47 non-null     float64       \n",
            " 2   Cases_Black                                47 non-null     float64       \n",
            " 3   Cases_LatinX                               20 non-null     float64       \n",
            " 4   Cases_Asian                                42 non-null     float64       \n",
            " 5   Cases_AIAN                                 28 non-null     float64       \n",
            " 6   Cases_NHPI                                 18 non-null     float64       \n",
            " 7   Cases_Multiracial                          13 non-null     float64       \n",
            " 8   Cases_Other                                45 non-null     float64       \n",
            " 9   Cases_Unknown                              51 non-null     float64       \n",
            " 10  Cases_Ethnicity_Hispanic                   45 non-null     float64       \n",
            " 11  Cases_Ethnicity_NonHispanic                45 non-null     float64       \n",
            " 12  Cases_Ethnicity_Unknown                    46 non-null     float64       \n",
            " 13  Deaths_Total                               52 non-null     float64       \n",
            " 14  Deaths_White                               44 non-null     float64       \n",
            " 15  Deaths_Black                               42 non-null     float64       \n",
            " 16  Deaths_LatinX                              20 non-null     float64       \n",
            " 17  Deaths_Asian                               37 non-null     float64       \n",
            " 18  Deaths_AIAN                                18 non-null     float64       \n",
            " 19  Deaths_NHPI                                11 non-null     float64       \n",
            " 20  Deaths_Multiracial                         11 non-null     float64       \n",
            " 21  Deaths_Other                               40 non-null     float64       \n",
            " 22  Deaths_Unknown                             49 non-null     float64       \n",
            " 23  Deaths_Ethnicity_Hispanic                  43 non-null     float64       \n",
            " 24  Deaths_Ethnicity_NonHispanic               43 non-null     float64       \n",
            " 25  Deaths_Ethnicity_Unknown                   43 non-null     float64       \n",
            " 26  state                                      52 non-null     object        \n",
            " 27  date                                       52 non-null     datetime64[ns]\n",
            " 28  cases                                      52 non-null     int64         \n",
            " 29  deaths                                     52 non-null     int64         \n",
            " 30  population                                 52 non-null     int64         \n",
            " 31  state_code                                 52 non-null     object        \n",
            " 32  fips                                       52 non-null     int64         \n",
            " 33  hispanic_latino_any_race_PE                52 non-null     float64       \n",
            " 34  non_hispanic_latino_any_race_PE            52 non-null     float64       \n",
            " 35  white_alone_PE                             52 non-null     float64       \n",
            " 36  black_african_american_alone_PE            52 non-null     float64       \n",
            " 37  american_indian_alaska_native_alone_PE     52 non-null     float64       \n",
            " 38  asian_alone_PE                             52 non-null     float64       \n",
            " 39  native_hawaiian_pacific_islander_alone_PE  52 non-null     float64       \n",
            " 40  some_other_race_alone_PE                   52 non-null     float64       \n",
            " 41  two_or_more_races_PE                       52 non-null     float64       \n",
            " 42  deaths_per_100k                            52 non-null     float64       \n",
            " 43  cases_per_100k                             52 non-null     float64       \n",
            "dtypes: datetime64[ns](1), float64(37), int64(4), object(2)\n",
            "memory usage: 18.3+ KB\n"
          ],
          "name": "stdout"
        }
      ]
    },
    {
      "cell_type": "code",
      "metadata": {
        "id": "ztfqgXxfFcNA",
        "colab_type": "code",
        "outputId": "cd3a8568-344a-46bc-8280-a9434c31553b",
        "colab": {
          "base_uri": "https://localhost:8080/",
          "height": 305
        }
      },
      "source": [
        "# racial_analysis_df.head()"
      ],
      "execution_count": 0,
      "outputs": [
        {
          "output_type": "execute_result",
          "data": {
            "text/html": [
              "<div>\n",
              "<style scoped>\n",
              "    .dataframe tbody tr th:only-of-type {\n",
              "        vertical-align: middle;\n",
              "    }\n",
              "\n",
              "    .dataframe tbody tr th {\n",
              "        vertical-align: top;\n",
              "    }\n",
              "\n",
              "    .dataframe thead th {\n",
              "        text-align: right;\n",
              "    }\n",
              "</style>\n",
              "<table border=\"1\" class=\"dataframe\">\n",
              "  <thead>\n",
              "    <tr style=\"text-align: right;\">\n",
              "      <th></th>\n",
              "      <th>Cases_Total</th>\n",
              "      <th>Cases_White</th>\n",
              "      <th>Cases_Black</th>\n",
              "      <th>Cases_LatinX</th>\n",
              "      <th>Cases_Asian</th>\n",
              "      <th>Cases_AIAN</th>\n",
              "      <th>Cases_NHPI</th>\n",
              "      <th>Cases_Multiracial</th>\n",
              "      <th>Cases_Other</th>\n",
              "      <th>Cases_Unknown</th>\n",
              "      <th>Cases_Ethnicity_Hispanic</th>\n",
              "      <th>Cases_Ethnicity_NonHispanic</th>\n",
              "      <th>Cases_Ethnicity_Unknown</th>\n",
              "      <th>Deaths_Total</th>\n",
              "      <th>Deaths_White</th>\n",
              "      <th>Deaths_Black</th>\n",
              "      <th>Deaths_LatinX</th>\n",
              "      <th>Deaths_Asian</th>\n",
              "      <th>Deaths_AIAN</th>\n",
              "      <th>Deaths_NHPI</th>\n",
              "      <th>Deaths_Multiracial</th>\n",
              "      <th>Deaths_Other</th>\n",
              "      <th>Deaths_Unknown</th>\n",
              "      <th>Deaths_Ethnicity_Hispanic</th>\n",
              "      <th>Deaths_Ethnicity_NonHispanic</th>\n",
              "      <th>Deaths_Ethnicity_Unknown</th>\n",
              "      <th>state</th>\n",
              "      <th>date</th>\n",
              "      <th>cases</th>\n",
              "      <th>deaths</th>\n",
              "      <th>population</th>\n",
              "      <th>state_code</th>\n",
              "      <th>fips</th>\n",
              "      <th>hispanic_latino_any_race_PE</th>\n",
              "      <th>non_hispanic_latino_any_race_PE</th>\n",
              "      <th>white_alone_PE</th>\n",
              "      <th>black_african_american_alone_PE</th>\n",
              "      <th>american_indian_alaska_native_alone_PE</th>\n",
              "      <th>asian_alone_PE</th>\n",
              "      <th>native_hawaiian_pacific_islander_alone_PE</th>\n",
              "      <th>some_other_race_alone_PE</th>\n",
              "      <th>two_or_more_races_PE</th>\n",
              "      <th>deaths_per_100k</th>\n",
              "      <th>cases_per_100k</th>\n",
              "    </tr>\n",
              "  </thead>\n",
              "  <tbody>\n",
              "    <tr>\n",
              "      <th>0</th>\n",
              "      <td>593.0</td>\n",
              "      <td>349.0</td>\n",
              "      <td>16.0</td>\n",
              "      <td>NaN</td>\n",
              "      <td>57.0</td>\n",
              "      <td>69.0</td>\n",
              "      <td>16.0</td>\n",
              "      <td>22.0</td>\n",
              "      <td>12.0</td>\n",
              "      <td>52.0</td>\n",
              "      <td>45.0</td>\n",
              "      <td>476.0</td>\n",
              "      <td>72.0</td>\n",
              "      <td>11.0</td>\n",
              "      <td>6.0</td>\n",
              "      <td>0.0</td>\n",
              "      <td>NaN</td>\n",
              "      <td>2.0</td>\n",
              "      <td>2.0</td>\n",
              "      <td>1.0</td>\n",
              "      <td>0.0</td>\n",
              "      <td>0.0</td>\n",
              "      <td>0.0</td>\n",
              "      <td>0.0</td>\n",
              "      <td>11.0</td>\n",
              "      <td>0.0</td>\n",
              "      <td>Alaska</td>\n",
              "      <td>2020-06-10</td>\n",
              "      <td>642</td>\n",
              "      <td>9</td>\n",
              "      <td>740747</td>\n",
              "      <td>AK</td>\n",
              "      <td>2</td>\n",
              "      <td>6.9</td>\n",
              "      <td>93.1</td>\n",
              "      <td>61.0</td>\n",
              "      <td>3.1</td>\n",
              "      <td>14.0</td>\n",
              "      <td>6.2</td>\n",
              "      <td>1.2</td>\n",
              "      <td>0.2</td>\n",
              "      <td>7.4</td>\n",
              "      <td>1.0</td>\n",
              "      <td>87.0</td>\n",
              "    </tr>\n",
              "    <tr>\n",
              "      <th>1</th>\n",
              "      <td>21989.0</td>\n",
              "      <td>7967.0</td>\n",
              "      <td>9221.0</td>\n",
              "      <td>NaN</td>\n",
              "      <td>103.0</td>\n",
              "      <td>NaN</td>\n",
              "      <td>NaN</td>\n",
              "      <td>NaN</td>\n",
              "      <td>1089.0</td>\n",
              "      <td>3609.0</td>\n",
              "      <td>2086.0</td>\n",
              "      <td>14969.0</td>\n",
              "      <td>4932.0</td>\n",
              "      <td>744.0</td>\n",
              "      <td>360.0</td>\n",
              "      <td>333.0</td>\n",
              "      <td>NaN</td>\n",
              "      <td>5.0</td>\n",
              "      <td>NaN</td>\n",
              "      <td>NaN</td>\n",
              "      <td>NaN</td>\n",
              "      <td>12.0</td>\n",
              "      <td>34.0</td>\n",
              "      <td>18.0</td>\n",
              "      <td>640.0</td>\n",
              "      <td>86.0</td>\n",
              "      <td>Alabama</td>\n",
              "      <td>2020-06-10</td>\n",
              "      <td>21989</td>\n",
              "      <td>744</td>\n",
              "      <td>4903185</td>\n",
              "      <td>AL</td>\n",
              "      <td>1</td>\n",
              "      <td>4.2</td>\n",
              "      <td>95.8</td>\n",
              "      <td>65.7</td>\n",
              "      <td>26.4</td>\n",
              "      <td>0.5</td>\n",
              "      <td>1.3</td>\n",
              "      <td>0.0</td>\n",
              "      <td>0.2</td>\n",
              "      <td>1.7</td>\n",
              "      <td>15.0</td>\n",
              "      <td>448.0</td>\n",
              "    </tr>\n",
              "    <tr>\n",
              "      <th>2</th>\n",
              "      <td>10368.0</td>\n",
              "      <td>4973.0</td>\n",
              "      <td>2920.0</td>\n",
              "      <td>NaN</td>\n",
              "      <td>93.0</td>\n",
              "      <td>33.0</td>\n",
              "      <td>561.0</td>\n",
              "      <td>NaN</td>\n",
              "      <td>867.0</td>\n",
              "      <td>921.0</td>\n",
              "      <td>2203.0</td>\n",
              "      <td>8165.0</td>\n",
              "      <td>921.0</td>\n",
              "      <td>165.0</td>\n",
              "      <td>96.0</td>\n",
              "      <td>51.0</td>\n",
              "      <td>NaN</td>\n",
              "      <td>1.0</td>\n",
              "      <td>NaN</td>\n",
              "      <td>6.0</td>\n",
              "      <td>NaN</td>\n",
              "      <td>8.0</td>\n",
              "      <td>NaN</td>\n",
              "      <td>8.0</td>\n",
              "      <td>154.0</td>\n",
              "      <td>3.0</td>\n",
              "      <td>Arkansas</td>\n",
              "      <td>2020-06-10</td>\n",
              "      <td>10368</td>\n",
              "      <td>165</td>\n",
              "      <td>3017804</td>\n",
              "      <td>AR</td>\n",
              "      <td>5</td>\n",
              "      <td>7.3</td>\n",
              "      <td>92.7</td>\n",
              "      <td>72.7</td>\n",
              "      <td>15.3</td>\n",
              "      <td>0.6</td>\n",
              "      <td>1.5</td>\n",
              "      <td>0.3</td>\n",
              "      <td>0.2</td>\n",
              "      <td>2.2</td>\n",
              "      <td>5.0</td>\n",
              "      <td>344.0</td>\n",
              "    </tr>\n",
              "    <tr>\n",
              "      <th>3</th>\n",
              "      <td>29852.0</td>\n",
              "      <td>5978.0</td>\n",
              "      <td>913.0</td>\n",
              "      <td>7392.0</td>\n",
              "      <td>290.0</td>\n",
              "      <td>3694.0</td>\n",
              "      <td>NaN</td>\n",
              "      <td>NaN</td>\n",
              "      <td>845.0</td>\n",
              "      <td>10740.0</td>\n",
              "      <td>7392.0</td>\n",
              "      <td>11720.0</td>\n",
              "      <td>10740.0</td>\n",
              "      <td>1095.0</td>\n",
              "      <td>515.0</td>\n",
              "      <td>33.0</td>\n",
              "      <td>195.0</td>\n",
              "      <td>15.0</td>\n",
              "      <td>194.0</td>\n",
              "      <td>NaN</td>\n",
              "      <td>NaN</td>\n",
              "      <td>20.0</td>\n",
              "      <td>123.0</td>\n",
              "      <td>195.0</td>\n",
              "      <td>777.0</td>\n",
              "      <td>123.0</td>\n",
              "      <td>Arizona</td>\n",
              "      <td>2020-06-10</td>\n",
              "      <td>29981</td>\n",
              "      <td>1100</td>\n",
              "      <td>7278717</td>\n",
              "      <td>AZ</td>\n",
              "      <td>4</td>\n",
              "      <td>31.1</td>\n",
              "      <td>68.9</td>\n",
              "      <td>55.1</td>\n",
              "      <td>4.1</td>\n",
              "      <td>3.9</td>\n",
              "      <td>3.2</td>\n",
              "      <td>0.2</td>\n",
              "      <td>0.1</td>\n",
              "      <td>2.2</td>\n",
              "      <td>15.0</td>\n",
              "      <td>412.0</td>\n",
              "    </tr>\n",
              "    <tr>\n",
              "      <th>4</th>\n",
              "      <td>136191.0</td>\n",
              "      <td>18064.0</td>\n",
              "      <td>4713.0</td>\n",
              "      <td>54151.0</td>\n",
              "      <td>8019.0</td>\n",
              "      <td>191.0</td>\n",
              "      <td>708.0</td>\n",
              "      <td>706.0</td>\n",
              "      <td>10784.0</td>\n",
              "      <td>38855.0</td>\n",
              "      <td>54151.0</td>\n",
              "      <td>43185.0</td>\n",
              "      <td>38855.0</td>\n",
              "      <td>4663.0</td>\n",
              "      <td>1524.0</td>\n",
              "      <td>451.0</td>\n",
              "      <td>1837.0</td>\n",
              "      <td>684.0</td>\n",
              "      <td>13.0</td>\n",
              "      <td>21.0</td>\n",
              "      <td>31.0</td>\n",
              "      <td>39.0</td>\n",
              "      <td>63.0</td>\n",
              "      <td>1837.0</td>\n",
              "      <td>2763.0</td>\n",
              "      <td>63.0</td>\n",
              "      <td>California</td>\n",
              "      <td>2020-06-10</td>\n",
              "      <td>140123</td>\n",
              "      <td>4869</td>\n",
              "      <td>39512223</td>\n",
              "      <td>CA</td>\n",
              "      <td>6</td>\n",
              "      <td>38.9</td>\n",
              "      <td>61.1</td>\n",
              "      <td>37.5</td>\n",
              "      <td>5.5</td>\n",
              "      <td>0.4</td>\n",
              "      <td>14.1</td>\n",
              "      <td>0.4</td>\n",
              "      <td>0.2</td>\n",
              "      <td>3.0</td>\n",
              "      <td>12.0</td>\n",
              "      <td>355.0</td>\n",
              "    </tr>\n",
              "  </tbody>\n",
              "</table>\n",
              "</div>"
            ],
            "text/plain": [
              "   Cases_Total  Cases_White  ...  deaths_per_100k  cases_per_100k\n",
              "0        593.0        349.0  ...              1.0            87.0\n",
              "1      21989.0       7967.0  ...             15.0           448.0\n",
              "2      10368.0       4973.0  ...              5.0           344.0\n",
              "3      29852.0       5978.0  ...             15.0           412.0\n",
              "4     136191.0      18064.0  ...             12.0           355.0\n",
              "\n",
              "[5 rows x 44 columns]"
            ]
          },
          "metadata": {
            "tags": []
          },
          "execution_count": 21
        }
      ]
    },
    {
      "cell_type": "code",
      "metadata": {
        "id": "U4fu3DJCdZ9Z",
        "colab_type": "code",
        "colab": {}
      },
      "source": [
        "\n",
        "# df = analysis_df.query('Deaths_Total >= 20') \\\n",
        "#   .melt(id_vars = 'state', \n",
        "#         value_vars = ['black_african_american_alone_PE', 'black_death_pct'], var_name = 'percentage_type', value_name = 'percentage')\n",
        "\n",
        "# alt.Chart(analysis_df).mark_bar().encode(x = '')"
      ],
      "execution_count": 0,
      "outputs": []
    },
    {
      "cell_type": "code",
      "metadata": {
        "id": "0vzT5ga6T6ge",
        "colab_type": "code",
        "colab": {}
      },
      "source": [
        "# analysis_df[['Cases_Total', 'cases']].astype(int) # for most part tehy seems to match with sligh variation \n",
        "# analysis_df[['Deaths_Total', 'deaths']].astype(int) # for most part tehy seems to match with slight variation \n",
        "# analysis_df[['Cases_Total', 'cases']].astype(int) # for most part tehy seems to match with slight variation \n",
        "# For the purpsoe of this analysis we are going to use Atlantic's numbers"
      ],
      "execution_count": 0,
      "outputs": []
    },
    {
      "cell_type": "code",
      "metadata": {
        "id": "n7mERM9-UmpG",
        "colab_type": "code",
        "colab": {}
      },
      "source": [
        "# Let's focus on impact on Hispanic and Non hispanic Entnicity \n",
        "# case_ethnicity_cols = ['date','state','fips','Cases_Total', 'cases','Cases_Ethnicity_Hispanic', 'Cases_Ethnicity_NonHispanic', 'Cases_Ethnicity_Unknown', 'population', 'hispanic_latino_any_race_PE', 'non_hispanic_latino_any_race_PE'] \n",
        "# death_ethnicity_cols = ['date','state','fips','Deaths_Total', 'deaths', 'Deaths_Ethnicity_Hispanic', 'Deaths_Ethnicity_NonHispanic', 'Deaths_Ethnicity_Unknown', 'population', 'hispanic_latino_any_race_PE', 'non_hispanic_latino_any_race_PE'] \n",
        "# analysis_case_ethnicity_df = analysis_df[case_ethnicity_cols]\n",
        "# analysis_death_ethnicity_df = analysis_df[death_ethnicity_cols]"
      ],
      "execution_count": 0,
      "outputs": []
    },
    {
      "cell_type": "code",
      "metadata": {
        "id": "O0Pd-0yhYrHc",
        "colab_type": "code",
        "colab": {}
      },
      "source": [
        ""
      ],
      "execution_count": 0,
      "outputs": []
    }
  ]
}