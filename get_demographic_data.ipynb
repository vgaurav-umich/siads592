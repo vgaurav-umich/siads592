{
  "nbformat": 4,
  "nbformat_minor": 0,
  "metadata": {
    "colab": {
      "name": "get_demographic_data.ipynb",
      "provenance": [],
      "collapsed_sections": [],
      "toc_visible": true,
      "mount_file_id": "1D2aI4Hq_tMtrJueJmnP5FhcbfHj1bbIo",
      "authorship_tag": "ABX9TyPraEB/6bbeFFVi65Z1laa1",
      "include_colab_link": true
    },
    "kernelspec": {
      "name": "python3",
      "display_name": "Python 3"
    }
  },
  "cells": [
    {
      "cell_type": "markdown",
      "metadata": {
        "id": "view-in-github",
        "colab_type": "text"
      },
      "source": [
        "<a href=\"https://colab.research.google.com/github/vgaurav-umich/siads592/blob/master/get_demographic_data.ipynb\" target=\"_parent\"><img src=\"https://colab.research.google.com/assets/colab-badge.svg\" alt=\"Open In Colab\"/></a>"
      ]
    },
    {
      "cell_type": "markdown",
      "metadata": {
        "id": "hw6Ojz5ibBaZ",
        "colab_type": "text"
      },
      "source": [
        "# Download ACS Race/Ethnicity Data from US Census\n",
        "\n",
        "This notbook will download 2018 ACS Race/Ethnicity Data from US Census data portal. Link to source [Data table](https://data.census.gov/cedsci/table?d=ACS%205-Year%20Estimates%20Data%20Profiles&table=DP05&tid=ACSDP5Y2018.DP05)."
      ]
    },
    {
      "cell_type": "markdown",
      "metadata": {
        "id": "fi78Fx75z0ol",
        "colab_type": "text"
      },
      "source": [
        "## Purpose\n",
        "\n",
        "The purpose of this Notebook is to download data from US Census that provides us baseline info about demographic makeup of US population at County level.\n",
        "  "
      ]
    },
    {
      "cell_type": "code",
      "metadata": {
        "id": "qulB-6lya9cA",
        "colab_type": "code",
        "colab": {}
      },
      "source": [
        "# Download required libraries \n",
        "import pandas as pd\n",
        "import numpy as np"
      ],
      "execution_count": 0,
      "outputs": []
    },
    {
      "cell_type": "markdown",
      "metadata": {
        "id": "We8mLQSF0Gko",
        "colab_type": "text"
      },
      "source": [
        "## Download Data\n",
        "\n",
        "Unfortunately US Census' data portal does not provide an easy way to download data from their site. They provide an interactive tool to select custom data topics that later can be downloaded as zip file. \n",
        "\n",
        "There is a bit of manual work involved here as we have to download this zip file, extract it, and then upload it to Google Drive folder so, it can be picked up by this Notebook.\n",
        "\n",
        "The good news is, ACS estimates data is generated once every year, so once files are downloaded we do not have to go through manul download process every time.  "
      ]
    },
    {
      "cell_type": "code",
      "metadata": {
        "id": "lDatV6li-Qw3",
        "colab_type": "code",
        "colab": {
          "base_uri": "https://localhost:8080/",
          "height": 55
        },
        "outputId": "b4f7d2c3-f148-4e0f-f505-5e3acc4ccea3"
      },
      "source": [
        "# We are going to make use of parameterized nbotebook feature in Google Colab\n",
        "# acs_data_file_path = \"drive/My Drive/Colab Notebooks/assets/data/ACSDP1Y2018.DP05_2020-06-06T132235/ACSDP5Y2018.DP05_data_with_overlays_2020-06-09T020759.csv\" #@param {type:\"raw\"}\n",
        "acs_data_file_path = 'https://raw.githubusercontent.com/vgaurav-umich/siads592/master/data/ACSDP5Y2018.DP05_data_with_overlays_2020-06-09T020759.csv'\n",
        "# acs_data_file_path"
      ],
      "execution_count": 11,
      "outputs": [
        {
          "output_type": "execute_result",
          "data": {
            "text/plain": [
              "'https://raw.githubusercontent.com/vgaurav-umich/siads592/master/data/ACSDP5Y2018.DP05_data_with_overlays_2020-06-09T020759.csv'"
            ]
          },
          "metadata": {
            "tags": []
          },
          "execution_count": 11
        }
      ]
    },
    {
      "cell_type": "markdown",
      "metadata": {
        "id": "VjGEIRG9CgWJ",
        "colab_type": "text"
      },
      "source": [
        "## Receipie for Data Transformation\n",
        "1. Read Data from download path\n",
        "2. Filter only interesting columns\n",
        "3. Rename columns to user freindly names\n",
        "4. Remove first rwo as it include crude column names"
      ]
    },
    {
      "cell_type": "code",
      "metadata": {
        "id": "wQOS-lqVIeUJ",
        "colab_type": "code",
        "colab": {}
      },
      "source": [
        "def read_file(data_file_path):\n",
        "  # read the file downloaded from US Census Buerau website\n",
        "  # ACS 2018 1 year data profile estimates from https://data.census.gov/cedsci/table?d=ACS%205-Year%20Estimates%20Data%20Profiles&table=DP05&tid=ACSDP5Y2018.DP05\n",
        "  return pd.read_csv(data_file_path)\n",
        "\n",
        "def filter_columns(df):\n",
        "  # there are many columns, let's only pick ones that are of our interest for this analysis, i.e. race/ethnicity info \n",
        "  # col_types = ['PE', 'PM'] # Only interested in PE = percentage estimate and PM = percentage margin of error\n",
        "  col_types = ['PE']# Only interested in PE = percentage estimate \n",
        "  subset = ['GEO_ID','NAME'] + [f'DP05_00{i}{col_type}' for i in [71,76,77,78,79,80,81,82,83] for col_type in col_types]\n",
        "  # Filter only subset of columns along with Geography name\n",
        "  return df[subset]\n",
        "\n",
        "def rename_columns(df):\n",
        "  # generate user friendly names for columns\n",
        "  # col_types = ['PE', 'PM'] # Only interested in PE = percentage estimate and PM = percentage margin of error\n",
        "  col_types = ['PE'] # Only interested in PE = percentage estimate\n",
        "  dic = {71: 'hispanic_latino_any_race', 76:'non_hispanic_latino_any_race',  77: 'white_alone', 78: 'black_african_american_alone', 79: 'american_indian_alaska_native_alone', 80: 'asian_alone', 81: 'native_hawaiian_pacific_islander_alone', 82: 'some_other_race_alone', 83: 'two_or_more_races'}\n",
        "  numeric_cols = [f'{dic[item]}_{col_type}' for item in dic for col_type in col_types]\n",
        "  subset_names = ['fips','geo_name'] + numeric_cols\n",
        "  df.columns = subset_names # rename columns to a user friendly name\n",
        "  df = df.replace('*****', np.nan)\n",
        "  df = df.replace('N', np.nan)\n",
        "  df[numeric_cols] = df[numeric_cols].astype(float)\n",
        "  return df\n",
        "\n",
        "def clean_and_enrich(df):\n",
        "  df = df.iloc[1:]\n",
        "  df = rename_columns(df)\n",
        "  df['fips'] = df['fips'].str.extract(\".+US[0]?(.+)\").astype(float)\n",
        "  df['state'] = df['geo_name'].apply(lambda x: x.split(\",\")[1].strip() if \",\" in x else x )\n",
        "  return df"
      ],
      "execution_count": 0,
      "outputs": []
    },
    {
      "cell_type": "code",
      "metadata": {
        "id": "489TRX3fbkJI",
        "colab_type": "code",
        "outputId": "0776b225-f141-4cb5-f591-7701d60d6495",
        "colab": {
          "base_uri": "https://localhost:8080/",
          "height": 72
        }
      },
      "source": [
        "race_ethnicity_county_df = clean_and_enrich(filter_columns(read_file(acs_data_file_path)))"
      ],
      "execution_count": 13,
      "outputs": [
        {
          "output_type": "stream",
          "text": [
            "/usr/local/lib/python3.6/dist-packages/IPython/core/interactiveshell.py:2822: DtypeWarning: Columns (7,9,11,12,13,14,15,16,17,18,19,20,21,22,23,24,25,26,27,28,29,30,31,32,33,34,35,36,37,38,39,40,41,42,43,44,45,46,47,48,49,50,51,52,53,54,55,56,57,58,59,60,61,62,63,64,65,66,67,68,69,70,71,72,73,74,75,76,77,78,79,80,81,82,83,84,85,86,87,88,89,90,91,92,93,94,95,96,97,98,99,100,101,102,103,104,105,106,107,108,109,110,111,112,113,114,115,116,117,118,119,120,121,122,123,124,125,126,127,129,131,132,133,134,135,136,137,138,139,140,141,142,143,144,145,146,147,148,149,150,151,152,153,154,155,157,159,161,163,164,165,166,167,168,169,170,171,172,173,174,175,176,177,178,179,181,183,184,185,186,187,188,189,190,191,192,193,194,195,196,197,198,199,200,201,202,203,204,205,206,207,208,209,210,211,212,213,214,215,216,217,218,219,220,223,224,225,227,228,229,230,231,232,233,234,235,237,239,241,243,245,247,251,253,255,256,257,258,259,260,261,262,263,265,267,269,271,273,275,277,279,281,283,284,285,286,287,288,289,290,291,293,295,296,297,298,299,300,301,302,303,304,307,309,311,312,313,314,315,317,319,320,321,322,323,324,325,326,327,329,331,333,335,337,339,341,343,347,349,351,353,355,357) have mixed types.Specify dtype option on import or set low_memory=False.\n",
            "  if self.run_code(code, result):\n"
          ],
          "name": "stderr"
        }
      ]
    },
    {
      "cell_type": "code",
      "metadata": {
        "id": "N0_n8eqWbtnS",
        "colab_type": "code",
        "outputId": "b6a587ca-3f19-4f84-b2fd-b2e2be1ffa74",
        "colab": {
          "base_uri": "https://localhost:8080/",
          "height": 446
        }
      },
      "source": [
        "# Test if everything is all right. \n",
        "# acs_race_ethnicity_df.tail()\n",
        "print(\"\\n============================== race_ethnicity_county_df: Cleaned Race Ethnicity dataset ===========================================\")\n",
        "race_ethnicity_county_df.info()\n",
        "print(\"\\n ============= First 52 rows contains data for US States, and last row contains data about whole US ============\")"
      ],
      "execution_count": 0,
      "outputs": [
        {
          "output_type": "stream",
          "text": [
            "\n",
            "============================== race_ethnicity_county_df: Cleaned Race Ethnicity dataset ===========================================\n",
            "<class 'pandas.core.frame.DataFrame'>\n",
            "RangeIndex: 3273 entries, 1 to 3273\n",
            "Data columns (total 12 columns):\n",
            " #   Column                                     Non-Null Count  Dtype  \n",
            "---  ------                                     --------------  -----  \n",
            " 0   fips                                       3272 non-null   float64\n",
            " 1   geo_name                                   3273 non-null   object \n",
            " 2   hispanic_latino_any_race_PE                3273 non-null   float64\n",
            " 3   non_hispanic_latino_any_race_PE            3273 non-null   float64\n",
            " 4   white_alone_PE                             3273 non-null   float64\n",
            " 5   black_african_american_alone_PE            3273 non-null   float64\n",
            " 6   american_indian_alaska_native_alone_PE     3273 non-null   float64\n",
            " 7   asian_alone_PE                             3273 non-null   float64\n",
            " 8   native_hawaiian_pacific_islander_alone_PE  3273 non-null   float64\n",
            " 9   some_other_race_alone_PE                   3273 non-null   float64\n",
            " 10  two_or_more_races_PE                       3273 non-null   float64\n",
            " 11  state                                      3273 non-null   object \n",
            "dtypes: float64(10), object(2)\n",
            "memory usage: 307.0+ KB\n",
            "\n",
            " ============= First 52 rows contains data for US States, and last row contains data about whole US ============\n"
          ],
          "name": "stdout"
        }
      ]
    },
    {
      "cell_type": "markdown",
      "metadata": {
        "id": "b9DDmyU9C9cK",
        "colab_type": "text"
      },
      "source": [
        "#### Notes\n",
        "Population and demographic data on are based on analysis of the Census Bureau’s American Community Survey (ACS) and may differ from other population estimates published yearly by the Census Bureau. \n",
        "\n",
        "Persons of Hispanic origin may be of any race; all other racial/ethnic groups are non-Hispanic."
      ]
    },
    {
      "cell_type": "markdown",
      "metadata": {
        "id": "kfYaaYcI1bLl",
        "colab_type": "text"
      },
      "source": [
        "## Enrich with Geographic Data\n",
        "\n",
        "The data we just downloaded provides us detailed demographics about each US County. \n",
        "\n",
        "Since we have Geographic data downloaded we can further enrich demographic data with Geo features like CBSA.\n",
        "\n",
        "The good thing is ACS data contains FIPS code for each geography, so it makes an easy key to join on Geo data."
      ]
    },
    {
      "cell_type": "code",
      "metadata": {
        "id": "406XB9t1_zA6",
        "colab_type": "code",
        "outputId": "fb911396-3dea-44c3-ac57-171b0178d69e",
        "colab": {
          "base_uri": "https://localhost:8080/",
          "height": 730
        }
      },
      "source": [
        "%run 'drive/My Drive/Colab Notebooks/get_geographic_data.ipynb'"
      ],
      "execution_count": 0,
      "outputs": [
        {
          "output_type": "stream",
          "text": [
            "\n",
            "============================== county_cbsa_full_df: Full CBSA and County dataset w/ FIPS and Population ===========================================\n",
            "<class 'pandas.core.frame.DataFrame'>\n",
            "Int64Index: 3234 entries, 0 to 3233\n",
            "Data columns (total 6 columns):\n",
            " #   Column      Non-Null Count  Dtype \n",
            "---  ------      --------------  ----- \n",
            " 0   county      3234 non-null   object\n",
            " 1   state       3234 non-null   object\n",
            " 2   population  3234 non-null   int64 \n",
            " 3   cbsa        1874 non-null   object\n",
            " 4   cbsa_type   1874 non-null   object\n",
            " 5   fips        3234 non-null   int64 \n",
            "dtypes: int64(2), object(4)\n",
            "memory usage: 176.9+ KB\n",
            "\n",
            "============================== state_full_df: Full State dataset w/ Population and FIPS ===========================================\n",
            "<class 'pandas.core.frame.DataFrame'>\n",
            "Int64Index: 57 entries, 0 to 56\n",
            "Data columns (total 4 columns):\n",
            " #   Column      Non-Null Count  Dtype \n",
            "---  ------      --------------  ----- \n",
            " 0   state       57 non-null     object\n",
            " 1   population  57 non-null     int64 \n",
            " 2   state_code  57 non-null     object\n",
            " 3   fips        57 non-null     int64 \n",
            "dtypes: int64(2), object(2)\n",
            "memory usage: 2.2+ KB\n",
            "\n",
            "============================== cbsa_full_df: Full CBSA dataset w/ Population ===========================================\n",
            "<class 'pandas.core.frame.DataFrame'>\n",
            "RangeIndex: 854 entries, 0 to 853\n",
            "Data columns (total 2 columns):\n",
            " #   Column      Non-Null Count  Dtype \n",
            "---  ------      --------------  ----- \n",
            " 0   cbsa        854 non-null    object\n",
            " 1   population  854 non-null    int64 \n",
            "dtypes: int64(1), object(1)\n",
            "memory usage: 13.5+ KB\n"
          ],
          "name": "stdout"
        }
      ]
    },
    {
      "cell_type": "code",
      "metadata": {
        "id": "JIdHqjvTrksP",
        "colab_type": "code",
        "outputId": "a80abdb1-aa2c-410f-cdf8-ebf5da6956ec",
        "colab": {
          "base_uri": "https://localhost:8080/",
          "height": 481
        }
      },
      "source": [
        "county_cbsa_demographic_df = race_ethnicity_county_df.merge(county_cbsa_full_df, on = 'fips').rename({'state_x': 'state'},axis = 1).drop('state_y',axis = 1)\n",
        "print(\"\\n============================== county_cbsa_demographic_df: CBSA County Level Demographic Dataset ===========================================\")\n",
        "county_cbsa_demographic_df.info()"
      ],
      "execution_count": 0,
      "outputs": [
        {
          "output_type": "stream",
          "text": [
            "\n",
            "============================== county_cbsa_demographic_df: CBSA County Level Demographic Dataset ===========================================\n",
            "<class 'pandas.core.frame.DataFrame'>\n",
            "Int64Index: 3220 entries, 0 to 3219\n",
            "Data columns (total 16 columns):\n",
            " #   Column                                     Non-Null Count  Dtype  \n",
            "---  ------                                     --------------  -----  \n",
            " 0   fips                                       3220 non-null   float64\n",
            " 1   geo_name                                   3220 non-null   object \n",
            " 2   hispanic_latino_any_race_PE                3220 non-null   float64\n",
            " 3   non_hispanic_latino_any_race_PE            3220 non-null   float64\n",
            " 4   white_alone_PE                             3220 non-null   float64\n",
            " 5   black_african_american_alone_PE            3220 non-null   float64\n",
            " 6   american_indian_alaska_native_alone_PE     3220 non-null   float64\n",
            " 7   asian_alone_PE                             3220 non-null   float64\n",
            " 8   native_hawaiian_pacific_islander_alone_PE  3220 non-null   float64\n",
            " 9   some_other_race_alone_PE                   3220 non-null   float64\n",
            " 10  two_or_more_races_PE                       3220 non-null   float64\n",
            " 11  state                                      3220 non-null   object \n",
            " 12  county                                     3220 non-null   object \n",
            " 13  population                                 3220 non-null   int64  \n",
            " 14  cbsa                                       1874 non-null   object \n",
            " 15  cbsa_type                                  1874 non-null   object \n",
            "dtypes: float64(10), int64(1), object(5)\n",
            "memory usage: 427.7+ KB\n"
          ],
          "name": "stdout"
        }
      ]
    },
    {
      "cell_type": "code",
      "metadata": {
        "id": "VRbl9Nxczv1k",
        "colab_type": "code",
        "outputId": "87a95344-296f-4003-e07a-d31b3fa67bb4",
        "colab": {
          "base_uri": "https://localhost:8080/",
          "height": 446
        }
      },
      "source": [
        "state_demographic_df = state_full_df.merge(race_ethnicity_county_df, on =  'fips').drop('state_y', axis = 1).rename({'state_x': 'state'}, axis = 1)\n",
        "print(\"\\n============================== state_demographic_df: State Level Demographic Dataset ===========================================\")\n",
        "state_demographic_df.info()"
      ],
      "execution_count": 0,
      "outputs": [
        {
          "output_type": "stream",
          "text": [
            "\n",
            "============================== state_demographic_df: State Level Demographic Dataset ===========================================\n",
            "<class 'pandas.core.frame.DataFrame'>\n",
            "Int64Index: 52 entries, 0 to 51\n",
            "Data columns (total 14 columns):\n",
            " #   Column                                     Non-Null Count  Dtype  \n",
            "---  ------                                     --------------  -----  \n",
            " 0   state                                      52 non-null     object \n",
            " 1   population                                 52 non-null     int64  \n",
            " 2   state_code                                 52 non-null     object \n",
            " 3   fips                                       52 non-null     int64  \n",
            " 4   geo_name                                   52 non-null     object \n",
            " 5   hispanic_latino_any_race_PE                52 non-null     float64\n",
            " 6   non_hispanic_latino_any_race_PE            52 non-null     float64\n",
            " 7   white_alone_PE                             52 non-null     float64\n",
            " 8   black_african_american_alone_PE            52 non-null     float64\n",
            " 9   american_indian_alaska_native_alone_PE     52 non-null     float64\n",
            " 10  asian_alone_PE                             52 non-null     float64\n",
            " 11  native_hawaiian_pacific_islander_alone_PE  52 non-null     float64\n",
            " 12  some_other_race_alone_PE                   52 non-null     float64\n",
            " 13  two_or_more_races_PE                       52 non-null     float64\n",
            "dtypes: float64(9), int64(2), object(3)\n",
            "memory usage: 6.1+ KB\n"
          ],
          "name": "stdout"
        }
      ]
    },
    {
      "cell_type": "code",
      "metadata": {
        "id": "8XskseTe22q8",
        "colab_type": "code",
        "colab": {}
      },
      "source": [
        "cbsa_demographic_df = county_cbsa_demographic_df.groupby(['cbsa', 'cbsa_type']).agg({'population': 'sum', \n",
        "                                                'hispanic_latino_any_race_PE': 'mean', \n",
        "                                                'white_alone_PE' : 'mean', \n",
        "                                                'black_african_american_alone_PE' : 'mean', \n",
        "                                                'american_indian_alaska_native_alone_PE': 'mean', \n",
        "                                                'asian_alone_PE': 'mean', \n",
        "                                                'native_hawaiian_pacific_islander_alone_PE': 'mean', \n",
        "                                                'some_other_race_alone_PE': 'mean', 'two_or_more_races_PE': 'mean'}).reset_index()\n"
      ],
      "execution_count": 0,
      "outputs": []
    },
    {
      "cell_type": "code",
      "metadata": {
        "id": "aetON_uA5gNQ",
        "colab_type": "code",
        "outputId": "f817fa08-4f4d-4582-c892-440550d94b95",
        "colab": {
          "base_uri": "https://localhost:8080/",
          "height": 410
        }
      },
      "source": [
        "cbsa_demographic_df['total'] = round(cbsa_demographic_df.loc[:, cbsa_demographic_df.columns != 'population'].sum(axis = 1))\n",
        "print(\"\\n============================== cbsa_demographic_df: SBSA Level Demographic Dataset ===========================================\")\n",
        "cbsa_demographic_df.info()"
      ],
      "execution_count": 0,
      "outputs": [
        {
          "output_type": "stream",
          "text": [
            "\n",
            "============================== cbsa_demographic_df: SBSA Level Demographic Dataset ===========================================\n",
            "<class 'pandas.core.frame.DataFrame'>\n",
            "RangeIndex: 875 entries, 0 to 874\n",
            "Data columns (total 12 columns):\n",
            " #   Column                                     Non-Null Count  Dtype  \n",
            "---  ------                                     --------------  -----  \n",
            " 0   cbsa                                       875 non-null    object \n",
            " 1   cbsa_type                                  875 non-null    object \n",
            " 2   population                                 875 non-null    int64  \n",
            " 3   hispanic_latino_any_race_PE                875 non-null    float64\n",
            " 4   white_alone_PE                             875 non-null    float64\n",
            " 5   black_african_american_alone_PE            875 non-null    float64\n",
            " 6   american_indian_alaska_native_alone_PE     875 non-null    float64\n",
            " 7   asian_alone_PE                             875 non-null    float64\n",
            " 8   native_hawaiian_pacific_islander_alone_PE  875 non-null    float64\n",
            " 9   some_other_race_alone_PE                   875 non-null    float64\n",
            " 10  two_or_more_races_PE                       875 non-null    float64\n",
            " 11  total                                      875 non-null    float64\n",
            "dtypes: float64(9), int64(1), object(2)\n",
            "memory usage: 82.2+ KB\n"
          ],
          "name": "stdout"
        }
      ]
    },
    {
      "cell_type": "markdown",
      "metadata": {
        "id": "OxsVAAU_2MtW",
        "colab_type": "text"
      },
      "source": [
        "## Save Data"
      ]
    },
    {
      "cell_type": "code",
      "metadata": {
        "id": "-OnCnHjk2PwK",
        "colab_type": "code",
        "colab": {}
      },
      "source": [
        "county_cbsa_demographic_df.to_csv('drive/My Drive/Colab Notebooks/assets/county_cbsa_demographic.csv')\n",
        "cbsa_demographic_df.to_csv('drive/My Drive/Colab Notebooks/assets/cbsa_demographic.csv')\n",
        "state_demographic_df.to_csv('drive/My Drive/Colab Notebooks/assets/state_demographic.csv')"
      ],
      "execution_count": 0,
      "outputs": []
    },
    {
      "cell_type": "code",
      "metadata": {
        "id": "XbHvr7uR2w0k",
        "colab_type": "code",
        "colab": {}
      },
      "source": [
        ""
      ],
      "execution_count": 0,
      "outputs": []
    }
  ]
}